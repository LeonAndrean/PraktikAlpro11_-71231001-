{
 "cells": [
  {
   "cell_type": "code",
   "execution_count": 2,
   "metadata": {},
   "outputs": [
    {
     "name": "stdout",
     "output_type": "stream",
     "text": [
      "True\n"
     ]
    }
   ],
   "source": [
    "#Buatlah program untuk melakukan pengecekan apakah semua\n",
    "# anggota yang ada didalam tuple sama.\n",
    "# Contoh: tA= (90, 90, 90, 90)\n",
    "# Output: True\n",
    "tA = (90, 90, 90, 90)\n",
    "def sama(tA):\n",
    "    for i in range(len(tA) - 1):\n",
    "        if tA[i] != tA[i + 1]:\n",
    "            return False\n",
    "    return True\n",
    "print(sama(tA))"
   ]
  },
  {
   "cell_type": "code",
   "execution_count": 3,
   "metadata": {},
   "outputs": [
    {
     "name": "stdout",
     "output_type": "stream",
     "text": [
      "\n",
      "\n",
      "Data: ('71231001', 'Leonardo Andrean', 'Jl. Prof. Dr. Soepomo')\n",
      "\n",
      "NIM    :  71231001\n",
      "NAMA   :  Leonardo Andrean\n",
      "ALAMAT :  Jl. Prof. Dr. Soepomo\n",
      "\n",
      "NIM:  ('7', '1', '2', '3', '1', '0', '0', '1')\n",
      "\n",
      "NAMA DEPAN:  ('e', 'o', 'n', 'a', 'r', 'd', 'o')\n",
      "\n",
      "NAMA TERBALIK:  ('Andrean', 'Leonardo')\n",
      "\n"
     ]
    }
   ],
   "source": [
    "# Buatlah program dengan menggunakan tuple yang dapat melalakukan proses\n",
    "# seperti pada kasus 11.1, Gunakan data diri anda masing-masing dan lakukan\n",
    "# perubahan supaya didapatkan output seperti contoh berikut ini :\n",
    "NIM = input(\"Masukkan NIM          : \")\n",
    "Nama = input(\"Masukkan Nama lengkap : \")\n",
    "Alamat = input(\"Masukkan Alamat       : \")\n",
    "print()\n",
    "\n",
    "print(\"\\nData:\", (NIM, Nama, Alamat))\n",
    "print()\n",
    "\n",
    "print(\"NIM    : \", NIM)\n",
    "print(\"NAMA   : \", Nama)\n",
    "print(\"ALAMAT : \", Alamat)\n",
    "print()\n",
    "\n",
    "tupel = tuple(NIM)\n",
    "print(\"NIM: \", tupel)\n",
    "print()\n",
    "\n",
    "tupel1st = Nama.split()\n",
    "tupelll = tuple(tupel1st[0][1:])\n",
    "print(\"NAMA DEPAN: \", tupelll)\n",
    "print()\n",
    "\n",
    "tupel2nd = Nama.split()\n",
    "tupel3rd = tupel2nd[::-1]\n",
    "print(\"NAMA TERBALIK: \", tuple(tupel3rd))\n",
    "print()"
   ]
  },
  {
   "cell_type": "code",
   "execution_count": 2,
   "metadata": {},
   "outputs": [
    {
     "name": "stdout",
     "output_type": "stream",
     "text": [
      "04 3\n",
      "06 1\n",
      "07 1\n",
      "09 2\n",
      "10 3\n",
      "11 6\n",
      "14 1\n",
      "15 2\n",
      "16 4\n",
      "17 2\n",
      "18 1\n",
      "19 1\n"
     ]
    }
   ],
   "source": [
    "# Buatlah program untuk menghitung distribusi jam dalam satu hari dimana ada pesan yang\n",
    "# diterima dari setiap email yang masuk. Gunakan file mbox-short.txt untuk sebagai datanya.\n",
    "namafile = input('Enter file name: ')\n",
    "domein = dict()\n",
    "listnya =  list()\n",
    "try:\n",
    "    handle = open(namafile)\n",
    "except:\n",
    "    print('File cannot be opened:', namafile)\n",
    "    exit()\n",
    "for line in handle:\n",
    "    kata = line.split()\n",
    "    if len(kata) < 2 or kata[0] != \"From\":\n",
    "      continue\n",
    "    post = kata[5].split(\":\")\n",
    "    jam = post[0]\n",
    "    if jam not in domein:\n",
    "        domein[jam] = 1\n",
    "    else:\n",
    "        domein[jam] += 1\n",
    "for key, val in list(domein.items()):\n",
    "    listnya.append((key, val))\n",
    "listnya.sort()\n",
    "for key, val in listnya:\n",
    "    print(key, val)"
   ]
  }
 ],
 "metadata": {
  "kernelspec": {
   "display_name": "Python 3",
   "language": "python",
   "name": "python3"
  },
  "language_info": {
   "codemirror_mode": {
    "name": "ipython",
    "version": 3
   },
   "file_extension": ".py",
   "mimetype": "text/x-python",
   "name": "python",
   "nbconvert_exporter": "python",
   "pygments_lexer": "ipython3",
   "version": "3.11.4"
  }
 },
 "nbformat": 4,
 "nbformat_minor": 2
}
